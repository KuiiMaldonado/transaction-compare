{
 "cells": [
  {
   "cell_type": "code",
   "execution_count": 1,
   "metadata": {},
   "outputs": [],
   "source": [
    "#Importing dependencies\n",
    "import pandas as pd\n",
    "import os"
   ]
  },
  {
   "cell_type": "code",
   "execution_count": 2,
   "metadata": {},
   "outputs": [],
   "source": [
    "## getDataFrameFromFiles - use pandas to read the csv file and get a dataframe to work with it\n",
    "# @params:\n",
    "# path - the path of the data file\n",
    "# @return:\n",
    "# dataframe created from the file\n",
    "##\n",
    "def getDataFrameFromFile(path):\n",
    "    #Use index_col so pandas doesn't use the fisrt column as an index column.\n",
    "    return pd.read_csv(path, index_col=False)"
   ]
  },
  {
   "cell_type": "code",
   "execution_count": 3,
   "metadata": {},
   "outputs": [],
   "source": [
    "## sortDataFrame - return the dataframe sorted by column(s) and ascending or descending order\n",
    "# @params:\n",
    "# dataframe - dataframe that will be sorted\n",
    "# column - name of column or columns (separated by comma) to sort as string ie. \"TransactionID\" or \"TransactionID,TransactionType\"\n",
    "# ascending - True for ascending sort. False for descending sort.\n",
    "##\n",
    "def sortDataFrame(dataframe, column, ascending):\n",
    "    sortedDF = dataframe.sort_values(by=[column], ascending=ascending)\n",
    "    return sortedDF"
   ]
  },
  {
   "cell_type": "code",
   "execution_count": 4,
   "metadata": {},
   "outputs": [],
   "source": [
    "#csv files path\n",
    "clientFilePath = os.path.join(\"..\", \"Resources\", \"ClientMarkoffFile20140113.csv\")\n",
    "tutukaFilePath = os.path.join(\"..\", \"Resources\", \"TutukaMarkoffFile20140113.csv\")"
   ]
  },
  {
   "cell_type": "code",
   "execution_count": 5,
   "metadata": {},
   "outputs": [],
   "source": [
    "#Create dataframes for each file\n",
    "client_df = getDataFrameFromFile(clientFilePath)\n",
    "tutuka_df = getDataFrameFromFile(tutukaFilePath)"
   ]
  },
  {
   "cell_type": "code",
   "execution_count": 7,
   "metadata": {
    "scrolled": true
   },
   "outputs": [
    {
     "data": {
      "text/html": [
       "<div>\n",
       "<style scoped>\n",
       "    .dataframe tbody tr th:only-of-type {\n",
       "        vertical-align: middle;\n",
       "    }\n",
       "\n",
       "    .dataframe tbody tr th {\n",
       "        vertical-align: top;\n",
       "    }\n",
       "\n",
       "    .dataframe thead th {\n",
       "        text-align: right;\n",
       "    }\n",
       "</style>\n",
       "<table border=\"1\" class=\"dataframe\">\n",
       "  <thead>\n",
       "    <tr style=\"text-align: right;\">\n",
       "      <th></th>\n",
       "      <th>ProfileName</th>\n",
       "      <th>TransactionDate</th>\n",
       "      <th>TransactionAmount</th>\n",
       "      <th>TransactionNarrative</th>\n",
       "      <th>TransactionDescription</th>\n",
       "      <th>TransactionID</th>\n",
       "      <th>TransactionType</th>\n",
       "      <th>WalletReference</th>\n",
       "    </tr>\n",
       "  </thead>\n",
       "  <tbody>\n",
       "    <tr>\n",
       "      <td>0</td>\n",
       "      <td>Card Campaign</td>\n",
       "      <td>2014-01-12 08:24:56</td>\n",
       "      <td>-10250</td>\n",
       "      <td>Sunset Butchery 100343    Francistown   BW</td>\n",
       "      <td>DEDUCT</td>\n",
       "      <td>4012304765521</td>\n",
       "      <td>0</td>\n",
       "      <td>P_NzI4Njk3MTBfMTM4MTQ5MTEwNy4wNTMy</td>\n",
       "    </tr>\n",
       "    <tr>\n",
       "      <td>1</td>\n",
       "      <td>Card Campaign</td>\n",
       "      <td>2014-01-12 08:41:20</td>\n",
       "      <td>-3475</td>\n",
       "      <td>Choppies Superst102145    Lobatse       BW</td>\n",
       "      <td>DEDUCT</td>\n",
       "      <td>4012314602553</td>\n",
       "      <td>0</td>\n",
       "      <td>P_NzU3OTY0MzBfMTM4NzIwMzAxOS4zMzYz</td>\n",
       "    </tr>\n",
       "    <tr>\n",
       "      <td>2</td>\n",
       "      <td>Card Campaign</td>\n",
       "      <td>2014-01-12 08:41:20</td>\n",
       "      <td>-3475</td>\n",
       "      <td>Choppies Superst102145    Lobatse       BW</td>\n",
       "      <td>DEDUCT</td>\n",
       "      <td>4012314602553</td>\n",
       "      <td>0</td>\n",
       "      <td>P_NzU3OTY0MzBfMTM4NzIwMzAxOS4zMzYz</td>\n",
       "    </tr>\n",
       "    <tr>\n",
       "      <td>3</td>\n",
       "      <td>Card Campaign</td>\n",
       "      <td>2014-01-12 12:56:25</td>\n",
       "      <td>4310</td>\n",
       "      <td>766831 SHOPRITE GABORONE  BOTSWANA      BW</td>\n",
       "      <td>REVERSAL</td>\n",
       "      <td>4012321856252</td>\n",
       "      <td>0</td>\n",
       "      <td>P_NzI0MTE0MjJfMTM4ODEzMTA0Mi42MTI3</td>\n",
       "    </tr>\n",
       "    <tr>\n",
       "      <td>4</td>\n",
       "      <td>Card Campaign</td>\n",
       "      <td>2014-01-12 12:56:25</td>\n",
       "      <td>-4310</td>\n",
       "      <td>766831 SHOPRITE GABORONE  BOTSWANA      BW</td>\n",
       "      <td>DEDUCT</td>\n",
       "      <td>4012321856252</td>\n",
       "      <td>0</td>\n",
       "      <td>P_NzI0MTE0MjJfMTM4ODEzMTA0Mi42MTI3</td>\n",
       "    </tr>\n",
       "  </tbody>\n",
       "</table>\n",
       "</div>"
      ],
      "text/plain": [
       "     ProfileName      TransactionDate  TransactionAmount  \\\n",
       "0  Card Campaign  2014-01-12 08:24:56             -10250   \n",
       "1  Card Campaign  2014-01-12 08:41:20              -3475   \n",
       "2  Card Campaign  2014-01-12 08:41:20              -3475   \n",
       "3  Card Campaign  2014-01-12 12:56:25               4310   \n",
       "4  Card Campaign  2014-01-12 12:56:25              -4310   \n",
       "\n",
       "                         TransactionNarrative TransactionDescription  \\\n",
       "0  Sunset Butchery 100343    Francistown   BW                 DEDUCT   \n",
       "1  Choppies Superst102145    Lobatse       BW                 DEDUCT   \n",
       "2  Choppies Superst102145    Lobatse       BW                 DEDUCT   \n",
       "3  766831 SHOPRITE GABORONE  BOTSWANA      BW               REVERSAL   \n",
       "4  766831 SHOPRITE GABORONE  BOTSWANA      BW                 DEDUCT   \n",
       "\n",
       "   TransactionID  TransactionType                     WalletReference  \n",
       "0  4012304765521                0  P_NzI4Njk3MTBfMTM4MTQ5MTEwNy4wNTMy  \n",
       "1  4012314602553                0  P_NzU3OTY0MzBfMTM4NzIwMzAxOS4zMzYz  \n",
       "2  4012314602553                0  P_NzU3OTY0MzBfMTM4NzIwMzAxOS4zMzYz  \n",
       "3  4012321856252                0  P_NzI0MTE0MjJfMTM4ODEzMTA0Mi42MTI3  \n",
       "4  4012321856252                0  P_NzI0MTE0MjJfMTM4ODEzMTA0Mi42MTI3  "
      ]
     },
     "execution_count": 7,
     "metadata": {},
     "output_type": "execute_result"
    }
   ],
   "source": [
    "#Sort client datframe by TransactionID (ascending order)\n",
    "sortedClient = sortDataFrame(client_df, \"TransactionID\", True)\n",
    "\n",
    "#Reset the index column\n",
    "sortedClient.index = [x for x in range(0, len(sortedClient))]\n",
    "sortedClient.head()"
   ]
  },
  {
   "cell_type": "code",
   "execution_count": null,
   "metadata": {},
   "outputs": [],
   "source": []
  },
  {
   "cell_type": "code",
   "execution_count": null,
   "metadata": {},
   "outputs": [],
   "source": [
    "#Get the length of both files so we can choose the largest file and iterate over that one\n",
    "clientLen = len(client_df)\n",
    "tutukaLen = len(tutuka_df)\n",
    "\n",
    "#Assign the biggest length\n",
    "rowsLen = clientLen if (clientLen > tutukaLen) else tutukaLen\n",
    "print(rowsLen)\n",
    "    "
   ]
  },
  {
   "cell_type": "code",
   "execution_count": null,
   "metadata": {},
   "outputs": [],
   "source": [
    "sortedClient.reset_index()"
   ]
  },
  {
   "cell_type": "code",
   "execution_count": null,
   "metadata": {},
   "outputs": [],
   "source": [
    "duplicated = sortedTutuka[sortedTutuka.duplicated([\"TransactionID\"])]\n",
    "duplicated"
   ]
  },
  {
   "cell_type": "code",
   "execution_count": null,
   "metadata": {},
   "outputs": [],
   "source": [
    "client_df.dtypes"
   ]
  },
  {
   "cell_type": "code",
   "execution_count": null,
   "metadata": {},
   "outputs": [],
   "source": []
  }
 ],
 "metadata": {
  "kernelspec": {
   "display_name": "Python 3",
   "language": "python",
   "name": "python3"
  },
  "language_info": {
   "codemirror_mode": {
    "name": "ipython",
    "version": 3
   },
   "file_extension": ".py",
   "mimetype": "text/x-python",
   "name": "python",
   "nbconvert_exporter": "python",
   "pygments_lexer": "ipython3",
   "version": "3.7.4"
  }
 },
 "nbformat": 4,
 "nbformat_minor": 2
}
