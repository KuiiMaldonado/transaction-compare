{
 "cells": [
  {
   "cell_type": "code",
   "execution_count": 16,
   "metadata": {},
   "outputs": [],
   "source": [
    "#Importing dependencies\n",
    "import pandas as pd\n",
    "import os"
   ]
  },
  {
   "cell_type": "code",
   "execution_count": 17,
   "metadata": {},
   "outputs": [],
   "source": [
    "## getDataFrameFromFiles - use pandas to read the csv file and get a dataframe to work with it\n",
    "# @params: path - the path of the data file\n",
    "# @return: dataframe created from the file\n",
    "##\n",
    "def getDataFrameFromFile(path):\n",
    "    #Use index_col so pandas doesn't use the fisrt column as an index column.\n",
    "    return pd.read_csv(path, index_col=False)"
   ]
  },
  {
   "cell_type": "code",
   "execution_count": 18,
   "metadata": {},
   "outputs": [],
   "source": [
    "## sortDataFrame - Sorts dataframe by column and ascending or descending order\n",
    "# @params: dataframe - dataframe that will be sorted\n",
    "#          column - name of column\n",
    "#          ascending - True for ascending sort. False for descending sort.\n",
    "# @return: sortedDF - the dataframe sorted\n",
    "##\n",
    "def sortDataFrame(dataframe, column, ascending):\n",
    "    sortedDF = dataframe.sort_values(by=[column], ascending=ascending)\n",
    "\n",
    "    #Reset the index of the dataframe\n",
    "    sortedDF.index = [x for x in range(0, len(sortedDF))]\n",
    "    return sortedDF"
   ]
  },
  {
   "cell_type": "code",
   "execution_count": 19,
   "metadata": {},
   "outputs": [],
   "source": [
    "## insertEmptyRow - Inserts an empty row in a dataframe on the index defined.\n",
    "# @params: dataframe - the dataframe in which the empty row will be inserted.\n",
    "#          index - index where the row will be inserted. Index starts with number for first element of the dataframe.\n",
    "# @return: df - dataframe with the new empty row inserted.\n",
    "##\n",
    "def insertEmptyRow(dataframe, index):\n",
    "    row = pd.DataFrame(emptyDict, index=[index])\n",
    "    df = pd.concat([dataframe.iloc[:index - 1], row, dataframe.iloc[index - 1:]], ignore_index=True)\n",
    "    return df"
   ]
  },
  {
   "cell_type": "code",
   "execution_count": 20,
   "metadata": {},
   "outputs": [],
   "source": [
    "## compareRowData - checks if the data of two rows is the same or not\n",
    "# @params: clientRow - first pandas.Series to be compared\n",
    "#          tutukaRow - pandas.Series which will be compared against.\n",
    "# @return: Boolean\n",
    "#\n",
    "def compareRowData(clientRow, tutukaRow):\n",
    "    flag = True\n",
    "    for x in range(0,len(clientRow)):\n",
    "        if(not (clientRow[x] == tutukaRow[x])):\n",
    "            flag = False\n",
    "            break\n",
    "    return flag"
   ]
  },
  {
   "cell_type": "code",
   "execution_count": 21,
   "metadata": {},
   "outputs": [],
   "source": [
    "def getMaxSize():\n",
    "    #Get the length of both files so we can choose the largest file and iterate over that one\n",
    "    clientLen = len(sortedClient)\n",
    "    tutukaLen = len(sortedTutuka)\n",
    "    print(clientLen)\n",
    "    print(tutukaLen)\n",
    "\n",
    "    #Assign the biggest length\n",
    "    dfLen = clientLen if (clientLen > tutukaLen) else tutukaLen\n",
    "    print(f'Max:{dfLen}\\n')\n",
    "    return dfLen"
   ]
  },
  {
   "cell_type": "code",
   "execution_count": 22,
   "metadata": {},
   "outputs": [],
   "source": [
    "#csv files path\n",
    "clientFilePath = os.path.join(\"..\", \"Resources\", \"ClientMarkoffFile20140113.csv\")\n",
    "tutukaFilePath = os.path.join(\"..\", \"Resources\", \"TutukaMarkoffFile20140113.csv\")"
   ]
  },
  {
   "cell_type": "code",
   "execution_count": 23,
   "metadata": {},
   "outputs": [],
   "source": [
    "#Create dataframes for each file\n",
    "client_df = getDataFrameFromFile(clientFilePath)\n",
    "tutuka_df = getDataFrameFromFile(tutukaFilePath)"
   ]
  },
  {
   "cell_type": "code",
   "execution_count": 24,
   "metadata": {},
   "outputs": [],
   "source": [
    "#emptyDict stores in a dictionary all the column names of a dataframe as keys and empty values.\n",
    "#This variable helps out in the process of creating an empty row using the insertEmptyRow declared before.\n",
    "emptyDict = {}\n",
    "for column in client_df.columns:\n",
    "    emptyDict[column] = \"\""
   ]
  },
  {
   "cell_type": "code",
   "execution_count": 25,
   "metadata": {
    "scrolled": true
   },
   "outputs": [],
   "source": [
    "#Sort client dataframe by TransactionID (ascending order) so its easier to find possible matches.\n",
    "sortedClient = sortDataFrame(client_df, \"TransactionID\", True)"
   ]
  },
  {
   "cell_type": "code",
   "execution_count": 26,
   "metadata": {},
   "outputs": [],
   "source": [
    "#Sort tutuka dataframe by TransactionID (ascending order)\n",
    "sortedTutuka = sortDataFrame(tutuka_df, \"TransactionID\", True)"
   ]
  },
  {
   "cell_type": "code",
   "execution_count": 27,
   "metadata": {},
   "outputs": [
    {
     "output_type": "execute_result",
     "data": {
      "text/plain": "       ProfileName      TransactionDate  TransactionAmount  \\\n0    Card Campaign  2014-01-12 08:24:56             -10250   \n1    Card Campaign  2014-01-12 08:41:20              -3475   \n2    Card Campaign  2014-01-12 12:56:25               4310   \n3    Card Campaign  2014-01-12 12:56:25              -4310   \n4    Card Campaign  2014-01-12 12:57:31              -4310   \n..             ...                  ...                ...   \n299  Card Campaign  2014-01-12 21:59:29             -10000   \n300  Card Campaign  2014-01-12 22:05:11             -10000   \n301  Card Campaign  2014-01-12 22:45:14             -10000   \n302  Card Campaign  2014-01-12 14:16:24             -10000   \n303  Card Campaign  2014-01-12 14:21:22              -5466   \n\n                           TransactionNarrative TransactionDescription  \\\n0    Sunset Butchery 100343    Francistown   BW                 DEDUCT   \n1    Choppies Superst102145    Lobatse       BW                 DEDUCT   \n2    766831 SHOPRITE GABORONE  BOTSWANA      BW               REVERSAL   \n3    766831 SHOPRITE GABORONE  BOTSWANA      BW                 DEDUCT   \n4    766831 SHOPRITE GABORONE  BOTSWANA      BW                 DEDUCT   \n..                                          ...                    ...   \n299  KFC ATM                   JOHANNESBURG  BW                 DEDUCT   \n300  CHOPPIES GABANE ROAD      BOT           BW                 DEDUCT   \n301  HEMAMO                    GABORONE      BW                 DEDUCT   \n302  TRUWORTHS                 BOTSWANA      BW                 DEDUCT   \n303                              *RED SQUARE SZ                 DEDUCT   \n\n        TransactionID  TransactionType                     WalletReference  \n0       4012304765521                0  P_NzI4Njk3MTBfMTM4MTQ5MTEwNy4wNTMy  \n1       4012314602553                0  P_NzU3OTY0MzBfMTM4NzIwMzAxOS4zMzYz  \n2       4012321856252                0  P_NzI0MTE0MjJfMTM4ODEzMTA0Mi42MTI3  \n3       4012321856252                0  P_NzI0MTE0MjJfMTM4ODEzMTA0Mi42MTI3  \n4       4012322510401                0  P_NzI0MTE0MjJfMTM4ODEzMTA0Mi42MTI3  \n..                ...              ...                                 ...  \n299   584012647694946                1  P_NzI3NDUxNDRfMTM4NDM1MDQ5NC4yMTUx  \n300   584012651116258                1  P_NzQzNTQzODFfMTM4NzM2Njg5NS4xODAy  \n301   584012676142890                1  P_NzY1NTAxNDZfMTM4ODM5MjU4My4xMTQ3  \n302  4049540590428544                1  P_NzI3NDUxNDRfMTM4NDM1MDQ5NC4yMTUx  \n303  8948594584958495                0  P_NzIxMzExMDZfMTM4NjMyNzk1MS4wNDE2  \n\n[304 rows x 8 columns]",
      "text/html": "<div>\n<style scoped>\n    .dataframe tbody tr th:only-of-type {\n        vertical-align: middle;\n    }\n\n    .dataframe tbody tr th {\n        vertical-align: top;\n    }\n\n    .dataframe thead th {\n        text-align: right;\n    }\n</style>\n<table border=\"1\" class=\"dataframe\">\n  <thead>\n    <tr style=\"text-align: right;\">\n      <th></th>\n      <th>ProfileName</th>\n      <th>TransactionDate</th>\n      <th>TransactionAmount</th>\n      <th>TransactionNarrative</th>\n      <th>TransactionDescription</th>\n      <th>TransactionID</th>\n      <th>TransactionType</th>\n      <th>WalletReference</th>\n    </tr>\n  </thead>\n  <tbody>\n    <tr>\n      <td>0</td>\n      <td>Card Campaign</td>\n      <td>2014-01-12 08:24:56</td>\n      <td>-10250</td>\n      <td>Sunset Butchery 100343    Francistown   BW</td>\n      <td>DEDUCT</td>\n      <td>4012304765521</td>\n      <td>0</td>\n      <td>P_NzI4Njk3MTBfMTM4MTQ5MTEwNy4wNTMy</td>\n    </tr>\n    <tr>\n      <td>1</td>\n      <td>Card Campaign</td>\n      <td>2014-01-12 08:41:20</td>\n      <td>-3475</td>\n      <td>Choppies Superst102145    Lobatse       BW</td>\n      <td>DEDUCT</td>\n      <td>4012314602553</td>\n      <td>0</td>\n      <td>P_NzU3OTY0MzBfMTM4NzIwMzAxOS4zMzYz</td>\n    </tr>\n    <tr>\n      <td>2</td>\n      <td>Card Campaign</td>\n      <td>2014-01-12 12:56:25</td>\n      <td>4310</td>\n      <td>766831 SHOPRITE GABORONE  BOTSWANA      BW</td>\n      <td>REVERSAL</td>\n      <td>4012321856252</td>\n      <td>0</td>\n      <td>P_NzI0MTE0MjJfMTM4ODEzMTA0Mi42MTI3</td>\n    </tr>\n    <tr>\n      <td>3</td>\n      <td>Card Campaign</td>\n      <td>2014-01-12 12:56:25</td>\n      <td>-4310</td>\n      <td>766831 SHOPRITE GABORONE  BOTSWANA      BW</td>\n      <td>DEDUCT</td>\n      <td>4012321856252</td>\n      <td>0</td>\n      <td>P_NzI0MTE0MjJfMTM4ODEzMTA0Mi42MTI3</td>\n    </tr>\n    <tr>\n      <td>4</td>\n      <td>Card Campaign</td>\n      <td>2014-01-12 12:57:31</td>\n      <td>-4310</td>\n      <td>766831 SHOPRITE GABORONE  BOTSWANA      BW</td>\n      <td>DEDUCT</td>\n      <td>4012322510401</td>\n      <td>0</td>\n      <td>P_NzI0MTE0MjJfMTM4ODEzMTA0Mi42MTI3</td>\n    </tr>\n    <tr>\n      <td>...</td>\n      <td>...</td>\n      <td>...</td>\n      <td>...</td>\n      <td>...</td>\n      <td>...</td>\n      <td>...</td>\n      <td>...</td>\n      <td>...</td>\n    </tr>\n    <tr>\n      <td>299</td>\n      <td>Card Campaign</td>\n      <td>2014-01-12 21:59:29</td>\n      <td>-10000</td>\n      <td>KFC ATM                   JOHANNESBURG  BW</td>\n      <td>DEDUCT</td>\n      <td>584012647694946</td>\n      <td>1</td>\n      <td>P_NzI3NDUxNDRfMTM4NDM1MDQ5NC4yMTUx</td>\n    </tr>\n    <tr>\n      <td>300</td>\n      <td>Card Campaign</td>\n      <td>2014-01-12 22:05:11</td>\n      <td>-10000</td>\n      <td>CHOPPIES GABANE ROAD      BOT           BW</td>\n      <td>DEDUCT</td>\n      <td>584012651116258</td>\n      <td>1</td>\n      <td>P_NzQzNTQzODFfMTM4NzM2Njg5NS4xODAy</td>\n    </tr>\n    <tr>\n      <td>301</td>\n      <td>Card Campaign</td>\n      <td>2014-01-12 22:45:14</td>\n      <td>-10000</td>\n      <td>HEMAMO                    GABORONE      BW</td>\n      <td>DEDUCT</td>\n      <td>584012676142890</td>\n      <td>1</td>\n      <td>P_NzY1NTAxNDZfMTM4ODM5MjU4My4xMTQ3</td>\n    </tr>\n    <tr>\n      <td>302</td>\n      <td>Card Campaign</td>\n      <td>2014-01-12 14:16:24</td>\n      <td>-10000</td>\n      <td>TRUWORTHS                 BOTSWANA      BW</td>\n      <td>DEDUCT</td>\n      <td>4049540590428544</td>\n      <td>1</td>\n      <td>P_NzI3NDUxNDRfMTM4NDM1MDQ5NC4yMTUx</td>\n    </tr>\n    <tr>\n      <td>303</td>\n      <td>Card Campaign</td>\n      <td>2014-01-12 14:21:22</td>\n      <td>-5466</td>\n      <td>*RED SQUARE SZ</td>\n      <td>DEDUCT</td>\n      <td>8948594584958495</td>\n      <td>0</td>\n      <td>P_NzIxMzExMDZfMTM4NjMyNzk1MS4wNDE2</td>\n    </tr>\n  </tbody>\n</table>\n<p>304 rows × 8 columns</p>\n</div>"
     },
     "metadata": {},
     "execution_count": 27
    }
   ],
   "source": [
    "#We look through each dataframe and search if there are transactions that are the same.\n",
    "#If we find the same transaction in the same dataframe. We drop it.\n",
    "#Because is a transaction that is repeated and will cause problems. i.e. calculating the correct total amount the client\n",
    "#or a reatil store really  sold.\n",
    "\n",
    "#Drop duplicates in sortedClient dataframe\n",
    "sortedClient.drop_duplicates(inplace=True)\n",
    "#Reset the index of the dataframe\n",
    "sortedClient.index = [x for x in range(0, len(sortedClient))]\n",
    "sortedClient"
   ]
  },
  {
   "cell_type": "code",
   "execution_count": 28,
   "metadata": {},
   "outputs": [
    {
     "output_type": "execute_result",
     "data": {
      "text/plain": "       ProfileName      TransactionDate  TransactionAmount  \\\n0    Card Campaign  2014-01-12 08:24:56             -10250   \n1    Card Campaign  2014-01-12 08:41:20              -3475   \n2    Card Campaign  2014-01-12 12:56:25               4310   \n3    Card Campaign  2014-01-12 12:56:25              -4310   \n4    Card Campaign  2014-01-12 12:57:31              -4310   \n..             ...                  ...                ...   \n299  Card Campaign  2014-01-12 17:00:28              -5000   \n300  Card Campaign  2014-01-12 21:55:27             -20000   \n301  Card Campaign  2014-01-12 21:59:29             -10000   \n302  Card Campaign  2014-01-12 22:05:11             -10000   \n303  Card Campaign  2014-01-12 22:45:14             -10000   \n\n                           TransactionNarrative TransactionDescription  \\\n0    Sunset Butchery 100343    Francistown   BW                 DEDUCT   \n1    Choppies Superst102145    Lobatse       BW                 DEDUCT   \n2    766831 SHOPRITE GABORONE  BOTSWANA      BW               REVERSAL   \n3    766831 SHOPRITE GABORONE  BOTSWANA      BW                 DEDUCT   \n4    766831 SHOPRITE GABORONE  BOTSWANA      BW                 DEDUCT   \n..                                          ...                    ...   \n299  *MOLEPOLOLE SPAR          MOLEPOLOLE    BW                 DEDUCT   \n300  ENGEN TSOLAMOSESI         GABORONE      BW                 DEDUCT   \n301  KFC ATM                   JOHANNESBURG  BW                 DEDUCT   \n302  CHOPPIES GABANE ROAD      BOT           BW                 DEDUCT   \n303  HEMAMO                    GABORONE      BW                 DEDUCT   \n\n       TransactionID  TransactionType                     WalletReference  \n0      4012304765521                0  P_NzI4Njk3MTBfMTM4MTQ5MTEwNy4wNTMy  \n1      4012314602553                0  P_NzU3OTY0MzBfMTM4NzIwMzAxOS4zMzYz  \n2      4012321856252                0  P_NzI0MTE0MjJfMTM4ODEzMTA0Mi42MTI3  \n3      4012321856252                0  P_NzI0MTE0MjJfMTM4ODEzMTA0Mi42MTI3  \n4      4012322510401                0  P_NzI0MTE0MjJfMTM4ODEzMTA0Mi42MTI3  \n..               ...              ...                                 ...  \n299  584012612282599                1  P_NzI3MzE2NTZfMTM4NTY0ODQxMC45Mjk4  \n300  584012645272003                1  P_NzUwNDg3ODdfMTM4MjUyMDA3Mi44MjM4  \n301  584012647694946                1  P_NzI3NDUxNDRfMTM4NDM1MDQ5NC4yMTUx  \n302  584012651116258                1  P_NzQzNTQzODFfMTM4NzM2Njg5NS4xODAy  \n303  584012676142890                1  P_NzY1NTAxNDZfMTM4ODM5MjU4My4xMTQ3  \n\n[304 rows x 8 columns]",
      "text/html": "<div>\n<style scoped>\n    .dataframe tbody tr th:only-of-type {\n        vertical-align: middle;\n    }\n\n    .dataframe tbody tr th {\n        vertical-align: top;\n    }\n\n    .dataframe thead th {\n        text-align: right;\n    }\n</style>\n<table border=\"1\" class=\"dataframe\">\n  <thead>\n    <tr style=\"text-align: right;\">\n      <th></th>\n      <th>ProfileName</th>\n      <th>TransactionDate</th>\n      <th>TransactionAmount</th>\n      <th>TransactionNarrative</th>\n      <th>TransactionDescription</th>\n      <th>TransactionID</th>\n      <th>TransactionType</th>\n      <th>WalletReference</th>\n    </tr>\n  </thead>\n  <tbody>\n    <tr>\n      <td>0</td>\n      <td>Card Campaign</td>\n      <td>2014-01-12 08:24:56</td>\n      <td>-10250</td>\n      <td>Sunset Butchery 100343    Francistown   BW</td>\n      <td>DEDUCT</td>\n      <td>4012304765521</td>\n      <td>0</td>\n      <td>P_NzI4Njk3MTBfMTM4MTQ5MTEwNy4wNTMy</td>\n    </tr>\n    <tr>\n      <td>1</td>\n      <td>Card Campaign</td>\n      <td>2014-01-12 08:41:20</td>\n      <td>-3475</td>\n      <td>Choppies Superst102145    Lobatse       BW</td>\n      <td>DEDUCT</td>\n      <td>4012314602553</td>\n      <td>0</td>\n      <td>P_NzU3OTY0MzBfMTM4NzIwMzAxOS4zMzYz</td>\n    </tr>\n    <tr>\n      <td>2</td>\n      <td>Card Campaign</td>\n      <td>2014-01-12 12:56:25</td>\n      <td>4310</td>\n      <td>766831 SHOPRITE GABORONE  BOTSWANA      BW</td>\n      <td>REVERSAL</td>\n      <td>4012321856252</td>\n      <td>0</td>\n      <td>P_NzI0MTE0MjJfMTM4ODEzMTA0Mi42MTI3</td>\n    </tr>\n    <tr>\n      <td>3</td>\n      <td>Card Campaign</td>\n      <td>2014-01-12 12:56:25</td>\n      <td>-4310</td>\n      <td>766831 SHOPRITE GABORONE  BOTSWANA      BW</td>\n      <td>DEDUCT</td>\n      <td>4012321856252</td>\n      <td>0</td>\n      <td>P_NzI0MTE0MjJfMTM4ODEzMTA0Mi42MTI3</td>\n    </tr>\n    <tr>\n      <td>4</td>\n      <td>Card Campaign</td>\n      <td>2014-01-12 12:57:31</td>\n      <td>-4310</td>\n      <td>766831 SHOPRITE GABORONE  BOTSWANA      BW</td>\n      <td>DEDUCT</td>\n      <td>4012322510401</td>\n      <td>0</td>\n      <td>P_NzI0MTE0MjJfMTM4ODEzMTA0Mi42MTI3</td>\n    </tr>\n    <tr>\n      <td>...</td>\n      <td>...</td>\n      <td>...</td>\n      <td>...</td>\n      <td>...</td>\n      <td>...</td>\n      <td>...</td>\n      <td>...</td>\n      <td>...</td>\n    </tr>\n    <tr>\n      <td>299</td>\n      <td>Card Campaign</td>\n      <td>2014-01-12 17:00:28</td>\n      <td>-5000</td>\n      <td>*MOLEPOLOLE SPAR          MOLEPOLOLE    BW</td>\n      <td>DEDUCT</td>\n      <td>584012612282599</td>\n      <td>1</td>\n      <td>P_NzI3MzE2NTZfMTM4NTY0ODQxMC45Mjk4</td>\n    </tr>\n    <tr>\n      <td>300</td>\n      <td>Card Campaign</td>\n      <td>2014-01-12 21:55:27</td>\n      <td>-20000</td>\n      <td>ENGEN TSOLAMOSESI         GABORONE      BW</td>\n      <td>DEDUCT</td>\n      <td>584012645272003</td>\n      <td>1</td>\n      <td>P_NzUwNDg3ODdfMTM4MjUyMDA3Mi44MjM4</td>\n    </tr>\n    <tr>\n      <td>301</td>\n      <td>Card Campaign</td>\n      <td>2014-01-12 21:59:29</td>\n      <td>-10000</td>\n      <td>KFC ATM                   JOHANNESBURG  BW</td>\n      <td>DEDUCT</td>\n      <td>584012647694946</td>\n      <td>1</td>\n      <td>P_NzI3NDUxNDRfMTM4NDM1MDQ5NC4yMTUx</td>\n    </tr>\n    <tr>\n      <td>302</td>\n      <td>Card Campaign</td>\n      <td>2014-01-12 22:05:11</td>\n      <td>-10000</td>\n      <td>CHOPPIES GABANE ROAD      BOT           BW</td>\n      <td>DEDUCT</td>\n      <td>584012651116258</td>\n      <td>1</td>\n      <td>P_NzQzNTQzODFfMTM4NzM2Njg5NS4xODAy</td>\n    </tr>\n    <tr>\n      <td>303</td>\n      <td>Card Campaign</td>\n      <td>2014-01-12 22:45:14</td>\n      <td>-10000</td>\n      <td>HEMAMO                    GABORONE      BW</td>\n      <td>DEDUCT</td>\n      <td>584012676142890</td>\n      <td>1</td>\n      <td>P_NzY1NTAxNDZfMTM4ODM5MjU4My4xMTQ3</td>\n    </tr>\n  </tbody>\n</table>\n<p>304 rows × 8 columns</p>\n</div>"
     },
     "metadata": {},
     "execution_count": 28
    }
   ],
   "source": [
    "#Drop duplicates in sortedTutuka dataframe\n",
    "sortedTutuka.drop_duplicates(inplace=True)\n",
    "#Reset the index of the dataframe\n",
    "sortedTutuka.index = [x for x in range(0, len(sortedTutuka))]\n",
    "sortedTutuka"
   ]
  },
  {
   "cell_type": "code",
   "execution_count": 29,
   "metadata": {
    "tags": []
   },
   "outputs": [
    {
     "output_type": "stream",
     "name": "stdout",
     "text": "304\n304\nMax:304\n\nNo es match. Posible 46 ProfileName                                            Card Campaign\nTransactionDate                                  2014-01-12 15:03:05\nTransactionAmount                                              -6984\nTransactionNarrative      128552 P G TIMBERS MAUN   BOTSWANA      BW\nTransactionDescription                                        DEDUCT\nTransactionID                                         84012397854064\nTransactionType                                                    0\nWalletReference                                                  NaN\nName: 46, dtype: object\nNo es match. Posible 62 ProfileName                                    Card Campaign\nTransactionDate                          2014-01-12 10:39:59\nTransactionAmount                                     -11490\nTransactionNarrative                    *Edgars SDTN      ZA\nTransactionDescription                                DEDUCT\nTransactionID                                164012239997884\nTransactionType                                            0\nWalletReference           P_Nzc0ODIwMzZfMTM4MzMyMDk3Mi4wOTMx\nName: 62, dtype: object\n305\n304\nMax:305\n\nNo es match. Posible 67 ProfileName                                            Card Campaign\nTransactionDate                                  2014-01-12 14:09:36\nTransactionAmount                                              -5395\nTransactionNarrative      Choppies Hyper R100256    Lobatse       BW\nTransactionDescription                                        DEDUCT\nTransactionID                                        164012367663009\nTransactionType                                                    0\nWalletReference                   P_Nzc0NzIzNjlfMTM4MzkwMjg0Ny41NTIy\nName: 67, dtype: object\nNo es match. Posible 75 ProfileName                                            Card Campaign\nTransactionDate                                  2014-01-12 21:33:51\nTransactionAmount                                             -12220\nTransactionNarrative      162502 CHOPPIES           BOTSWANA      BW\nTransactionDescription                                        DEDUCT\nTransactionID                                        164012404238247\nTransactionType                                                    0\nWalletReference                   P_Nzc1MDc0MTNfMTM4NTgwOTEwNS4wMjk0\nName: 75, dtype: object\n306\n304\nMax:306\n\nNo es match. Posible 99 ProfileName                                            Card Campaign\nTransactionDate                                  2014-01-12 14:47:52\nTransactionAmount                                             -39405\nTransactionNarrative      578939 WIMPY PHAKALANE    BOTSWANA      BW\nTransactionDescription                                        DEDUCT\nTransactionID                                        284012388727189\nTransactionType                                                    0\nWalletReference                   P_NzI2NDM5OTlfMTM4MzY1MzIwNS4yMzQ=\nName: 99, dtype: object\n306\n304\nMax:306\n\nNo es match. Posible 169 ProfileName                                            Card Campaign\nTransactionDate                                  2014-01-12 05:33:22\nTransactionAmount                                             -32400\nTransactionNarrative      ENGEN TSOLAMOSESI         GABORONE      BW\nTransactionDescription                                        DEDUCT\nTransactionID                                        384012056029314\nTransactionType                                                    1\nWalletReference                   P_NzUyMDI4NjRfMTM4NTM2NjE4OC44Njcy\nName: 169, dtype: object\nNo es match. Posible 174 ProfileName                                            Card Campaign\nTransactionDate                                  2014-01-13 11:11:09\nTransactionAmount                                             -30000\nTransactionNarrative      THAMAGA ATM               BWS           BW\nTransactionDescription                                        DEDUCT\nTransactionID                                        384012258699343\nTransactionType                                                    1\nWalletReference                   P_NzQ0OTE5NjVfMTM4NzU0OTg0My44MzM=\nName: 174, dtype: object\n307\n305\nMax:307\n\n307\n305\nMax:307\n\nNo es match. Posible 205 ProfileName                                            Card Campaign\nTransactionDate                                  2014-01-12 16:09:09\nTransactionAmount                                             -20000\nTransactionNarrative      *MAUN ENGEN               MAUN          BW\nTransactionDescription                                        DEDUCT\nTransactionID                                        384012581494519\nTransactionType                                                    1\nWalletReference                   P_NzY1MDgxNDdfMTM4NDc3NTIxNi4wNjk1\nName: 205, dtype: object\n308\n306\nMax:308\n\n308\n306\nMax:308\n\n309\n307\nMax:309\n\n310\n307\nMax:310\n\nNo es match. Posible 275 ProfileName                                        Card Campaign\nTransactionDate                              2014-01-12 08:13:22\nTransactionAmount                                         -50000\nTransactionNarrative      *NRTHGT MLL           GABORONE      BW\nTransactionDescription                                    DEDUCT\nTransactionID                                    584012296020384\nTransactionType                                                1\nWalletReference               P_NzY1NTAxNDZfMTM4ODM5MjU4My4xMTQ3\nName: 275, dtype: object\nNo es match. Posible 286 ProfileName                                            Card Campaign\nTransactionDate                                  2014-01-12 15:26:54\nTransactionAmount                                             -30000\nTransactionNarrative      EASY PLAN RAILWAY         GABORONE      BW\nTransactionDescription                                        DEDUCT\nTransactionID                                        584012412153040\nTransactionType                                                    1\nWalletReference                   P_NzQzNjAxNTlfMTM4NjIzNjEzMS4wNzQ5\nName: 286, dtype: object\n310\n307\nMax:310\n\n"
    },
    {
     "output_type": "error",
     "ename": "IndexError",
     "evalue": "single positional indexer is out-of-bounds",
     "traceback": [
      "\u001b[1;31m---------------------------------------------------------------------------\u001b[0m",
      "\u001b[1;31mIndexError\u001b[0m                                Traceback (most recent call last)",
      "\u001b[1;32m<ipython-input-29-4b7286533611>\u001b[0m in \u001b[0;36m<module>\u001b[1;34m\u001b[0m\n\u001b[0;32m     11\u001b[0m     \u001b[1;31m#print(f'index:{index}')\u001b[0m\u001b[1;33m\u001b[0m\u001b[1;33m\u001b[0m\u001b[1;33m\u001b[0m\u001b[0m\n\u001b[0;32m     12\u001b[0m     \u001b[0mclientRow\u001b[0m \u001b[1;33m=\u001b[0m \u001b[0msortedClient\u001b[0m\u001b[1;33m.\u001b[0m\u001b[0miloc\u001b[0m\u001b[1;33m[\u001b[0m\u001b[0mindex\u001b[0m\u001b[1;33m]\u001b[0m\u001b[1;33m\u001b[0m\u001b[1;33m\u001b[0m\u001b[0m\n\u001b[1;32m---> 13\u001b[1;33m     \u001b[0mtutukaRow\u001b[0m \u001b[1;33m=\u001b[0m \u001b[0msortedTutuka\u001b[0m\u001b[1;33m.\u001b[0m\u001b[0miloc\u001b[0m\u001b[1;33m[\u001b[0m\u001b[0mindex\u001b[0m\u001b[1;33m]\u001b[0m\u001b[1;33m\u001b[0m\u001b[1;33m\u001b[0m\u001b[0m\n\u001b[0m\u001b[0;32m     14\u001b[0m     \u001b[1;31m#print(f'{clientRow[\"TransactionID\"]}    {tutukaRow[\"TransactionID\"]}')\u001b[0m\u001b[1;33m\u001b[0m\u001b[1;33m\u001b[0m\u001b[1;33m\u001b[0m\u001b[0m\n\u001b[0;32m     15\u001b[0m     \u001b[1;31m#First only check if the TransactionsID are the same. If both match, continue to check all the other data.\u001b[0m\u001b[1;33m\u001b[0m\u001b[1;33m\u001b[0m\u001b[1;33m\u001b[0m\u001b[0m\n",
      "\u001b[1;32mD:\\Anaconda3\\lib\\site-packages\\pandas\\core\\indexing.py\u001b[0m in \u001b[0;36m__getitem__\u001b[1;34m(self, key)\u001b[0m\n\u001b[0;32m   1422\u001b[0m \u001b[1;33m\u001b[0m\u001b[0m\n\u001b[0;32m   1423\u001b[0m             \u001b[0mmaybe_callable\u001b[0m \u001b[1;33m=\u001b[0m \u001b[0mcom\u001b[0m\u001b[1;33m.\u001b[0m\u001b[0mapply_if_callable\u001b[0m\u001b[1;33m(\u001b[0m\u001b[0mkey\u001b[0m\u001b[1;33m,\u001b[0m \u001b[0mself\u001b[0m\u001b[1;33m.\u001b[0m\u001b[0mobj\u001b[0m\u001b[1;33m)\u001b[0m\u001b[1;33m\u001b[0m\u001b[1;33m\u001b[0m\u001b[0m\n\u001b[1;32m-> 1424\u001b[1;33m             \u001b[1;32mreturn\u001b[0m \u001b[0mself\u001b[0m\u001b[1;33m.\u001b[0m\u001b[0m_getitem_axis\u001b[0m\u001b[1;33m(\u001b[0m\u001b[0mmaybe_callable\u001b[0m\u001b[1;33m,\u001b[0m \u001b[0maxis\u001b[0m\u001b[1;33m=\u001b[0m\u001b[0maxis\u001b[0m\u001b[1;33m)\u001b[0m\u001b[1;33m\u001b[0m\u001b[1;33m\u001b[0m\u001b[0m\n\u001b[0m\u001b[0;32m   1425\u001b[0m \u001b[1;33m\u001b[0m\u001b[0m\n\u001b[0;32m   1426\u001b[0m     \u001b[1;32mdef\u001b[0m \u001b[0m_is_scalar_access\u001b[0m\u001b[1;33m(\u001b[0m\u001b[0mself\u001b[0m\u001b[1;33m,\u001b[0m \u001b[0mkey\u001b[0m\u001b[1;33m:\u001b[0m \u001b[0mTuple\u001b[0m\u001b[1;33m)\u001b[0m\u001b[1;33m:\u001b[0m\u001b[1;33m\u001b[0m\u001b[1;33m\u001b[0m\u001b[0m\n",
      "\u001b[1;32mD:\\Anaconda3\\lib\\site-packages\\pandas\\core\\indexing.py\u001b[0m in \u001b[0;36m_getitem_axis\u001b[1;34m(self, key, axis)\u001b[0m\n\u001b[0;32m   2155\u001b[0m \u001b[1;33m\u001b[0m\u001b[0m\n\u001b[0;32m   2156\u001b[0m             \u001b[1;31m# validate the location\u001b[0m\u001b[1;33m\u001b[0m\u001b[1;33m\u001b[0m\u001b[1;33m\u001b[0m\u001b[0m\n\u001b[1;32m-> 2157\u001b[1;33m             \u001b[0mself\u001b[0m\u001b[1;33m.\u001b[0m\u001b[0m_validate_integer\u001b[0m\u001b[1;33m(\u001b[0m\u001b[0mkey\u001b[0m\u001b[1;33m,\u001b[0m \u001b[0maxis\u001b[0m\u001b[1;33m)\u001b[0m\u001b[1;33m\u001b[0m\u001b[1;33m\u001b[0m\u001b[0m\n\u001b[0m\u001b[0;32m   2158\u001b[0m \u001b[1;33m\u001b[0m\u001b[0m\n\u001b[0;32m   2159\u001b[0m             \u001b[1;32mreturn\u001b[0m \u001b[0mself\u001b[0m\u001b[1;33m.\u001b[0m\u001b[0m_get_loc\u001b[0m\u001b[1;33m(\u001b[0m\u001b[0mkey\u001b[0m\u001b[1;33m,\u001b[0m \u001b[0maxis\u001b[0m\u001b[1;33m=\u001b[0m\u001b[0maxis\u001b[0m\u001b[1;33m)\u001b[0m\u001b[1;33m\u001b[0m\u001b[1;33m\u001b[0m\u001b[0m\n",
      "\u001b[1;32mD:\\Anaconda3\\lib\\site-packages\\pandas\\core\\indexing.py\u001b[0m in \u001b[0;36m_validate_integer\u001b[1;34m(self, key, axis)\u001b[0m\n\u001b[0;32m   2086\u001b[0m         \u001b[0mlen_axis\u001b[0m \u001b[1;33m=\u001b[0m \u001b[0mlen\u001b[0m\u001b[1;33m(\u001b[0m\u001b[0mself\u001b[0m\u001b[1;33m.\u001b[0m\u001b[0mobj\u001b[0m\u001b[1;33m.\u001b[0m\u001b[0m_get_axis\u001b[0m\u001b[1;33m(\u001b[0m\u001b[0maxis\u001b[0m\u001b[1;33m)\u001b[0m\u001b[1;33m)\u001b[0m\u001b[1;33m\u001b[0m\u001b[1;33m\u001b[0m\u001b[0m\n\u001b[0;32m   2087\u001b[0m         \u001b[1;32mif\u001b[0m \u001b[0mkey\u001b[0m \u001b[1;33m>=\u001b[0m \u001b[0mlen_axis\u001b[0m \u001b[1;32mor\u001b[0m \u001b[0mkey\u001b[0m \u001b[1;33m<\u001b[0m \u001b[1;33m-\u001b[0m\u001b[0mlen_axis\u001b[0m\u001b[1;33m:\u001b[0m\u001b[1;33m\u001b[0m\u001b[1;33m\u001b[0m\u001b[0m\n\u001b[1;32m-> 2088\u001b[1;33m             \u001b[1;32mraise\u001b[0m \u001b[0mIndexError\u001b[0m\u001b[1;33m(\u001b[0m\u001b[1;34m\"single positional indexer is out-of-bounds\"\u001b[0m\u001b[1;33m)\u001b[0m\u001b[1;33m\u001b[0m\u001b[1;33m\u001b[0m\u001b[0m\n\u001b[0m\u001b[0;32m   2089\u001b[0m \u001b[1;33m\u001b[0m\u001b[0m\n\u001b[0;32m   2090\u001b[0m     \u001b[1;32mdef\u001b[0m \u001b[0m_getitem_tuple\u001b[0m\u001b[1;33m(\u001b[0m\u001b[0mself\u001b[0m\u001b[1;33m,\u001b[0m \u001b[0mtup\u001b[0m\u001b[1;33m)\u001b[0m\u001b[1;33m:\u001b[0m\u001b[1;33m\u001b[0m\u001b[1;33m\u001b[0m\u001b[0m\n",
      "\u001b[1;31mIndexError\u001b[0m: single positional indexer is out-of-bounds"
     ]
    }
   ],
   "source": [
    "# We start the iteration through the dataframes comparing each index within both dataframes. This is possible because we have sorted the data\n",
    "# And We dropped duplicates too\n",
    "index = 0\n",
    "clientMatch = 0\n",
    "clientMismatch = 0\n",
    "tutukaMatch = 0\n",
    "tutukaMismatch = 0\n",
    "maxIndex = getMaxSize()\n",
    "\n",
    "while(index < maxIndex):\n",
    "    #print(f'index:{index}')\n",
    "    clientRow = sortedClient.iloc[index]\n",
    "    tutukaRow = sortedTutuka.iloc[index]\n",
    "    #print(f'{clientRow[\"TransactionID\"]}    {tutukaRow[\"TransactionID\"]}')\n",
    "    #First only check if the TransactionsID are the same. If both match, continue to check all the other data.\n",
    "    if(clientRow[\"TransactionID\"] == tutukaRow[\"TransactionID\"]):\n",
    "        #print(\"IDs iguales\")\n",
    "        if(compareRowData(clientRow, tutukaRow)):\n",
    "            #print(\"Match perfecto\")\n",
    "            #Add one match to each file because the transaction is on both. So is a match for both of them\n",
    "            clientMatch += 1\n",
    "            tutukaMatch += 1\n",
    "        else:\n",
    "            #If they have the same ID but different information it may be possible that script is has switched the transactionDescription in one file.\n",
    "            #But the transaction may still have a match\n",
    "            #So we check with the next row if we find the same description.\n",
    "\n",
    "            #print(f'Posible inversion de descripcion en {index}')\n",
    "            #print(f'{clientRow[\"TransactionID\"]}    {tutukaRow[\"TransactionID\"]}')\n",
    "            tutukaNextRow = sortedTutuka.iloc[index + 1]\n",
    "            clientNextRow = sortedClient.iloc[index + 1]\n",
    "            if(compareRowData(clientRow, tutukaNextRow)):\n",
    "                #print(\"Si hay matches invertidos\")\n",
    "                #Add new matches\n",
    "                clientMatch += 1\n",
    "                tutukaMatch += 1\n",
    "                if(compareRowData(clientNextRow, tutukaRow)):\n",
    "                    clientMatch += 1\n",
    "                    tutukaMatch += 1\n",
    "                else:\n",
    "                    clientMismatch += 1\n",
    "                    tutukaMismatch += 1\n",
    "                #Add one to index because we already checked the next row\n",
    "                index += 1\n",
    "            else:\n",
    "                print(f\"No es match. Posible {index} {clientRow}\")\n",
    "                clientMismatch += 1\n",
    "                tutukaMismatch += 1\n",
    "            #print(\"---------------------------------\")               \n",
    "    else:\n",
    "        #print(f'{clientRow[\"TransactionID\"]}    {tutukaRow[\"TransactionID\"]}')\n",
    "        if(clientRow[\"TransactionID\"] > tutukaRow[\"TransactionID\"]):\n",
    "            #print(f'Mayor   index:{index}')\n",
    "            sortedClient = insertEmptyRow(sortedClient, index + 1)\n",
    "            maxIndex = getMaxSize()\n",
    "            tutukaMismatch += 1\n",
    "            \n",
    "        else:\n",
    "            #print(\"Menor\")\n",
    "            maxIndex = getMaxSize()\n",
    "            sortedTutuka = insertEmptyRow(sortedTutuka, index + 1)\n",
    "            clientMismatch += 1\n",
    "\n",
    "    index += 1\n",
    "\n",
    "print(f'Client file matches: {clientMatch}')\n",
    "print(f'Client file Mismatches: {clientMismatch}')\n",
    "print(f'Tutuka file matches: {tutukaMatch}')\n",
    "print(f'Tutuka file Mismatches: {tutukaMismatch}')"
   ]
  },
  {
   "cell_type": "code",
   "execution_count": 30,
   "metadata": {},
   "outputs": [
    {
     "output_type": "execute_result",
     "data": {
      "text/plain": "      ProfileName      TransactionDate TransactionAmount  \\\n0   Card Campaign  2014-01-12 08:24:56            -10250   \n1   Card Campaign  2014-01-12 08:41:20             -3475   \n2   Card Campaign  2014-01-12 12:56:25              4310   \n3   Card Campaign  2014-01-12 12:56:25             -4310   \n4   Card Campaign  2014-01-12 12:57:31             -4310   \n..            ...                  ...               ...   \n87  Card Campaign  2014-01-12 22:08:07             -2695   \n88  Card Campaign  2014-01-12 08:25:03             -5000   \n89  Card Campaign  2014-01-12 10:43:22             -2000   \n90  Card Campaign  2014-01-12 12:06:59             -7000   \n91                                                         \n\n                          TransactionNarrative TransactionDescription  \\\n0   Sunset Butchery 100343    Francistown   BW                 DEDUCT   \n1   Choppies Superst102145    Lobatse       BW                 DEDUCT   \n2   766831 SHOPRITE GABORONE  BOTSWANA      BW               REVERSAL   \n3   766831 SHOPRITE GABORONE  BOTSWANA      BW                 DEDUCT   \n4   766831 SHOPRITE GABORONE  BOTSWANA      BW                 DEDUCT   \n..                                         ...                    ...   \n87  921568 MOCHUDI SPAR       BOTSWANA      BW                 DEDUCT   \n88  616432 WHITE CITY FILLING BOTSWANA      BW                 DEDUCT   \n89  563667 ENGEN TRUCK STOP   BOTSWANA      BW                 DEDUCT   \n90  340579 BOTSHELO SERVICE S BOTSWANA      BW                 DEDUCT   \n91                                                                      \n\n      TransactionID TransactionType                     WalletReference  \n0     4012304765521               0  P_NzI4Njk3MTBfMTM4MTQ5MTEwNy4wNTMy  \n1     4012314602553               0  P_NzU3OTY0MzBfMTM4NzIwMzAxOS4zMzYz  \n2     4012321856252               0  P_NzI0MTE0MjJfMTM4ODEzMTA0Mi42MTI3  \n3     4012321856252               0  P_NzI0MTE0MjJfMTM4ODEzMTA0Mi42MTI3  \n4     4012322510401               0  P_NzI0MTE0MjJfMTM4ODEzMTA0Mi42MTI3  \n..              ...             ...                                 ...  \n87  164012652889581               0  P_NzQ4NzY3NzBfMTM4OTI2MzIxNi45NTk2  \n88  284012159042546               0  P_NzQzMDA2NjlfMTM4OTQzODQ2NS43OTUz  \n89  284012242033591               0  P_NzUzNTQ1NDNfMTM4MzgxNDM1Ni45NDI0  \n90  284012292196971               0  P_NzI5NTc5MzdfMTM3Nzc2MjY2Ny4zODU=  \n91                                                                       \n\n[92 rows x 8 columns]",
      "text/html": "<div>\n<style scoped>\n    .dataframe tbody tr th:only-of-type {\n        vertical-align: middle;\n    }\n\n    .dataframe tbody tr th {\n        vertical-align: top;\n    }\n\n    .dataframe thead th {\n        text-align: right;\n    }\n</style>\n<table border=\"1\" class=\"dataframe\">\n  <thead>\n    <tr style=\"text-align: right;\">\n      <th></th>\n      <th>ProfileName</th>\n      <th>TransactionDate</th>\n      <th>TransactionAmount</th>\n      <th>TransactionNarrative</th>\n      <th>TransactionDescription</th>\n      <th>TransactionID</th>\n      <th>TransactionType</th>\n      <th>WalletReference</th>\n    </tr>\n  </thead>\n  <tbody>\n    <tr>\n      <td>0</td>\n      <td>Card Campaign</td>\n      <td>2014-01-12 08:24:56</td>\n      <td>-10250</td>\n      <td>Sunset Butchery 100343    Francistown   BW</td>\n      <td>DEDUCT</td>\n      <td>4012304765521</td>\n      <td>0</td>\n      <td>P_NzI4Njk3MTBfMTM4MTQ5MTEwNy4wNTMy</td>\n    </tr>\n    <tr>\n      <td>1</td>\n      <td>Card Campaign</td>\n      <td>2014-01-12 08:41:20</td>\n      <td>-3475</td>\n      <td>Choppies Superst102145    Lobatse       BW</td>\n      <td>DEDUCT</td>\n      <td>4012314602553</td>\n      <td>0</td>\n      <td>P_NzU3OTY0MzBfMTM4NzIwMzAxOS4zMzYz</td>\n    </tr>\n    <tr>\n      <td>2</td>\n      <td>Card Campaign</td>\n      <td>2014-01-12 12:56:25</td>\n      <td>4310</td>\n      <td>766831 SHOPRITE GABORONE  BOTSWANA      BW</td>\n      <td>REVERSAL</td>\n      <td>4012321856252</td>\n      <td>0</td>\n      <td>P_NzI0MTE0MjJfMTM4ODEzMTA0Mi42MTI3</td>\n    </tr>\n    <tr>\n      <td>3</td>\n      <td>Card Campaign</td>\n      <td>2014-01-12 12:56:25</td>\n      <td>-4310</td>\n      <td>766831 SHOPRITE GABORONE  BOTSWANA      BW</td>\n      <td>DEDUCT</td>\n      <td>4012321856252</td>\n      <td>0</td>\n      <td>P_NzI0MTE0MjJfMTM4ODEzMTA0Mi42MTI3</td>\n    </tr>\n    <tr>\n      <td>4</td>\n      <td>Card Campaign</td>\n      <td>2014-01-12 12:57:31</td>\n      <td>-4310</td>\n      <td>766831 SHOPRITE GABORONE  BOTSWANA      BW</td>\n      <td>DEDUCT</td>\n      <td>4012322510401</td>\n      <td>0</td>\n      <td>P_NzI0MTE0MjJfMTM4ODEzMTA0Mi42MTI3</td>\n    </tr>\n    <tr>\n      <td>...</td>\n      <td>...</td>\n      <td>...</td>\n      <td>...</td>\n      <td>...</td>\n      <td>...</td>\n      <td>...</td>\n      <td>...</td>\n      <td>...</td>\n    </tr>\n    <tr>\n      <td>87</td>\n      <td>Card Campaign</td>\n      <td>2014-01-12 22:08:07</td>\n      <td>-2695</td>\n      <td>921568 MOCHUDI SPAR       BOTSWANA      BW</td>\n      <td>DEDUCT</td>\n      <td>164012652889581</td>\n      <td>0</td>\n      <td>P_NzQ4NzY3NzBfMTM4OTI2MzIxNi45NTk2</td>\n    </tr>\n    <tr>\n      <td>88</td>\n      <td>Card Campaign</td>\n      <td>2014-01-12 08:25:03</td>\n      <td>-5000</td>\n      <td>616432 WHITE CITY FILLING BOTSWANA      BW</td>\n      <td>DEDUCT</td>\n      <td>284012159042546</td>\n      <td>0</td>\n      <td>P_NzQzMDA2NjlfMTM4OTQzODQ2NS43OTUz</td>\n    </tr>\n    <tr>\n      <td>89</td>\n      <td>Card Campaign</td>\n      <td>2014-01-12 10:43:22</td>\n      <td>-2000</td>\n      <td>563667 ENGEN TRUCK STOP   BOTSWANA      BW</td>\n      <td>DEDUCT</td>\n      <td>284012242033591</td>\n      <td>0</td>\n      <td>P_NzUzNTQ1NDNfMTM4MzgxNDM1Ni45NDI0</td>\n    </tr>\n    <tr>\n      <td>90</td>\n      <td>Card Campaign</td>\n      <td>2014-01-12 12:06:59</td>\n      <td>-7000</td>\n      <td>340579 BOTSHELO SERVICE S BOTSWANA      BW</td>\n      <td>DEDUCT</td>\n      <td>284012292196971</td>\n      <td>0</td>\n      <td>P_NzI5NTc5MzdfMTM3Nzc2MjY2Ny4zODU=</td>\n    </tr>\n    <tr>\n      <td>91</td>\n      <td></td>\n      <td></td>\n      <td></td>\n      <td></td>\n      <td></td>\n      <td></td>\n      <td></td>\n      <td></td>\n    </tr>\n  </tbody>\n</table>\n<p>92 rows × 8 columns</p>\n</div>"
     },
     "metadata": {},
     "execution_count": 30
    }
   ],
   "source": [
    "sortedClient.head(92)"
   ]
  },
  {
   "cell_type": "code",
   "execution_count": 30,
   "metadata": {
    "tags": []
   },
   "outputs": [],
   "source": [
    "\n",
    "    "
   ]
  }
 ],
 "metadata": {
  "kernelspec": {
   "display_name": "Python 3",
   "language": "python",
   "name": "python3"
  },
  "language_info": {
   "codemirror_mode": {
    "name": "ipython",
    "version": 3
   },
   "file_extension": ".py",
   "mimetype": "text/x-python",
   "name": "python",
   "nbconvert_exporter": "python",
   "pygments_lexer": "ipython3",
   "version": "3.7.4"
  }
 },
 "nbformat": 4,
 "nbformat_minor": 2
}